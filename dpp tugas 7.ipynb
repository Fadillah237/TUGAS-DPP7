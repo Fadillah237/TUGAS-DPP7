{
 "cells": [
  {
   "cell_type": "code",
   "execution_count": 1,
   "id": "ace7dc2f",
   "metadata": {},
   "outputs": [
    {
     "name": "stdout",
     "output_type": "stream",
     "text": [
      "Masukan Teks :LUPA-LUPA INGAT\n",
      "Hasil :  TAGNI APUL-APUL\n"
     ]
    }
   ],
   "source": [
    "def pembalik (teks):\n",
    "    list = []\n",
    "    hasil = \"\"\n",
    "    for i in range (len(teks)) :\n",
    "        list.append(teks[i])\n",
    "    while list != [] :\n",
    "        hasil +=  list.pop()\n",
    "    return hasil \n",
    "a = input(\"Masukan Teks :\")\n",
    "print(\"Hasil : \",pembalik(a))"
   ]
  },
  {
   "cell_type": "code",
   "execution_count": 4,
   "id": "ceb91b50",
   "metadata": {},
   "outputs": [
    {
     "name": "stdout",
     "output_type": "stream",
     "text": [
      "Tuliskan Teks : Universitas Nusa Putera\n",
      "A-> 3\n",
      "I-> 2\n",
      "U-> 3\n",
      "E-> 2\n",
      "O-> 0\n",
      "Total Huruf Vokal: 10\n"
     ]
    }
   ],
   "source": [
    "teks = input(\"Tuliskan Teks : \").upper()\n",
    "dictionary_huruf_vokal = {\n",
    "    \"A\": 0,\n",
    "    \"I\": 0,\n",
    "    \"U\": 0,\n",
    "    \"E\": 0,\n",
    "    \"O\": 0,\n",
    "}\n",
    "\n",
    "for huruf_vokal in dictionary_huruf_vokal.keys():\n",
    "   dictionary_huruf_vokal[huruf_vokal] = teks.count(huruf_vokal)\n",
    "\n",
    "total_huruf_vokal = sum(dictionary_huruf_vokal.values())\n",
    "\n",
    "\n",
    "print (f\"\"\"\\\n",
    "A-> {dictionary_huruf_vokal[\"A\"]}\n",
    "I-> {dictionary_huruf_vokal[\"I\"]}\n",
    "U-> {dictionary_huruf_vokal[\"U\"]}\n",
    "E-> {dictionary_huruf_vokal[\"E\"]}\n",
    "O-> {dictionary_huruf_vokal[\"O\"]}\\\n",
    "\"\"\")\n",
    "print(f'Total Huruf Vokal:', total_huruf_vokal)"
   ]
  }
 ],
 "metadata": {
  "kernelspec": {
   "display_name": "Python 3 (ipykernel)",
   "language": "python",
   "name": "python3"
  },
  "language_info": {
   "codemirror_mode": {
    "name": "ipython",
    "version": 3
   },
   "file_extension": ".py",
   "mimetype": "text/x-python",
   "name": "python",
   "nbconvert_exporter": "python",
   "pygments_lexer": "ipython3",
   "version": "3.9.13"
  }
 },
 "nbformat": 4,
 "nbformat_minor": 5
}
